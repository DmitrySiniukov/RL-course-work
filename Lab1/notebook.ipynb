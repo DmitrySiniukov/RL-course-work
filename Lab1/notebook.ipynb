{
 "cells": [
  {
   "cell_type": "code",
   "execution_count": 1,
   "metadata": {},
   "outputs": [],
   "source": [
    "import numpy as np\n",
    "from tkinter import *\n",
    "from enum import Enum\n",
    "from time import sleep"
   ]
  },
  {
   "cell_type": "code",
   "execution_count": 2,
   "metadata": {},
   "outputs": [],
   "source": [
    "T = 15 # time limit\n",
    "map_width = 6\n",
    "map_height = 5\n",
    "map_size = (map_width, map_height)\n",
    "our_pos_zero = (0,0)\n",
    "his_pos_zero = (4,4)\n",
    "exit_pos = (4,4)"
   ]
  },
  {
   "cell_type": "code",
   "execution_count": 3,
   "metadata": {},
   "outputs": [],
   "source": [
    "class Step(Enum):\n",
    "    NONE = (0,0)\n",
    "    LEFT = (-1,0)\n",
    "    UP = (0,-1)\n",
    "    RIGHT = (1,0)\n",
    "    DOWN = (0,1)"
   ]
  },
  {
   "cell_type": "code",
   "execution_count": 4,
   "metadata": {},
   "outputs": [],
   "source": [
    "class Direction(Enum):\n",
    "    NONE = 0\n",
    "    LEFT = 1\n",
    "    UP = 2\n",
    "    RIGHT = 3\n",
    "    DOWN = 4\n",
    "    \n",
    "    @classmethod\n",
    "    def inverse(cls, direction):\n",
    "        if direction is cls.NONE:\n",
    "            return cls.NONE\n",
    "        if direction is cls.LEFT:\n",
    "            return cls.RIGHT\n",
    "        if direction is cls.UP:\n",
    "            return cls.DOWN\n",
    "        if direction is cls.RIGHT:\n",
    "            return cls.LEFT\n",
    "        if direction is cls.DOWN:\n",
    "            return cls.UP"
   ]
  },
  {
   "cell_type": "code",
   "execution_count": 5,
   "metadata": {},
   "outputs": [],
   "source": [
    "def in_map(pos):\n",
    "    if (pos[0] < 0 or pos[1] < 0 or pos[0] >= map_width or pos[1] >= map_height):\n",
    "        return False\n",
    "    return True"
   ]
  },
  {
   "cell_type": "code",
   "execution_count": 6,
   "metadata": {},
   "outputs": [],
   "source": [
    "# Our partial state (without the minotaur)\n",
    "class PartialState:\n",
    "    \n",
    "    def __init__(self, pos):\n",
    "        self.pos = pos # (x, y) tuple\n",
    "        \n",
    "    def getActions(self):\n",
    "        walls_dirs = walls.get(self.pos, [])\n",
    "        return [item for it in Direction if it not in walls_dirs] # add the borders-check\n",
    "    \n",
    "    def act(self, direction):\n",
    "        # Validity check\n",
    "        if direction not in getActions():\n",
    "            raise Exception(\"Illegal action!\")\n",
    "        self.pos = PartialState.step(self.pos, direction)\n",
    "    \n",
    "    @classmethod\n",
    "    def step(cls, pos, direction):\n",
    "        if direction is Direction.NONE:\n",
    "            return (pos[0], pos[1])\n",
    "        if direction is Direction.LEFT:\n",
    "            return (pos[0]-1, pos[1])\n",
    "        if direction is Direction.UP:\n",
    "            return (pos[0], pos[1]-1)\n",
    "        if direction is Direction.RIGHT:\n",
    "            return (pos[0]+1, pos[1])\n",
    "        return (pos[0], pos[1]+1)\n",
    "    \n",
    "    @classmethod\n",
    "    def getActions(cls, pos, walls):\n",
    "        walls_dirs = walls.get(pos, [])\n",
    "        return [dr for dr in Direction if dr not in walls_dirs and in_map(PartialState.step(pos, dr))]\n",
    "    "
   ]
  },
  {
   "cell_type": "code",
   "execution_count": 7,
   "metadata": {},
   "outputs": [],
   "source": [
    "class State:\n",
    "    \n",
    "    def __init__(self, part_state, minotaur_pos):\n",
    "        self.minotaur_pos = minotaur_pos # (x, y) tuple of the Minotaur's position\n",
    "        self.part_state = part_state\n",
    "    \n"
   ]
  },
  {
   "cell_type": "markdown",
   "metadata": {},
   "source": [
    "## Defining walls"
   ]
  },
  {
   "cell_type": "code",
   "execution_count": 8,
   "metadata": {},
   "outputs": [],
   "source": [
    "# One-way walls\n",
    "walls = { (1,0): [Direction.RIGHT], (1,1): [Direction.RIGHT], (1,2): [Direction.RIGHT],\n",
    "        (3,1): [Direction.RIGHT], (3,2): [Direction.RIGHT],\n",
    "        (4,1): [Direction.DOWN], (5,1): [Direction.DOWN],\n",
    "        (1,3): [Direction.DOWN], (2,3): [Direction.DOWN], (3,3): [Direction.DOWN], (4,3): [Direction.DOWN],\n",
    "        (3,4): [Direction.RIGHT] }\n",
    "\n",
    "# New values are appended to the first (base) dictionary\n",
    "def append_to_dict(base_dict, new_vals):\n",
    "    for key,vals in new_vals.items():\n",
    "        base_vals = base_dict.get(key, None)\n",
    "        if base_vals is None:\n",
    "            base_vals = []\n",
    "            base_dict[key] = base_vals\n",
    "        base_vals.extend(vals)\n",
    "\n",
    "# Mirroring the walls\n",
    "mirror_walls = {}\n",
    "for key,vals in walls.items():\n",
    "    for val in vals:\n",
    "        mirror_pos = PartialState.step(key, val)\n",
    "        mirror_vals = mirror_walls.get(mirror_pos, None)\n",
    "        if mirror_vals is None:\n",
    "            mirror_vals = []\n",
    "            mirror_walls[mirror_pos] = mirror_vals\n",
    "        mirror_vals.append(Direction.inverse(val))\n",
    "append_to_dict(walls, mirror_walls)"
   ]
  },
  {
   "cell_type": "markdown",
   "metadata": {},
   "source": [
    "## Main algorithm"
   ]
  },
  {
   "cell_type": "code",
   "execution_count": 9,
   "metadata": {},
   "outputs": [],
   "source": [
    "time_left = 30\n",
    "state_space_size = (time_left, *map_size, *map_size)\n",
    "V = np.zeros(state_space_size)\n",
    "theta = 1e-6\n",
    "delta = 1\n",
    "it_count = 0"
   ]
  },
  {
   "cell_type": "code",
   "execution_count": 10,
   "metadata": {},
   "outputs": [],
   "source": [
    "while delta > theta:\n",
    "    delta = 0.0\n",
    "    it_count += 1\n",
    "    for t_left, our_x, our_y, his_x, his_y in np.ndindex(state_space_size):\n",
    "        our_pos = (our_x, our_y)\n",
    "        his_pos = (his_x, his_y)\n",
    "        s = (t_left, *our_pos, *his_pos)\n",
    "        v = V[s]\n",
    "        if t_left == 0 and our_pos != exit_pos:\n",
    "            V[s] = -1 # Ran out of time\n",
    "        elif our_pos == his_pos:\n",
    "            V[s] = -1 # Eaten\n",
    "        elif our_pos == exit_pos:\n",
    "            V[s] = 1 # Made it\n",
    "        else:\n",
    "            his_pos_new = [PartialState.step(his_pos, act) for act in PartialState.getActions(his_pos, walls)]\n",
    "            p = 1/len(his_pos_new)\n",
    "            best_act_value = -np.infty\n",
    "            for direction in PartialState.getActions(our_pos, walls):\n",
    "                our_pos_new = PartialState.step(our_pos, direction)\n",
    "                new_val = np.sum([V[(t_left-1, *our_pos_new, *his_p)] for his_p in his_pos_new]) * p\n",
    "                if (new_val > best_act_value):\n",
    "                    best_act_value = new_val\n",
    "            V[s] = best_act_value\n",
    "        new_delta = np.abs(v - V[s])\n",
    "        if new_delta > delta:\n",
    "            delta = new_delta"
   ]
  },
  {
   "cell_type": "markdown",
   "metadata": {},
   "source": [
    "## Visualization"
   ]
  },
  {
   "cell_type": "code",
   "execution_count": 41,
   "metadata": {},
   "outputs": [],
   "source": [
    "class Cell():\n",
    "    FILLED_COLOR_BG = \"green\"\n",
    "    EMPTY_COLOR_BG = \"white\"\n",
    "    FILLED_COLOR_BORDER = \"green\"\n",
    "    EMPTY_COLOR_BORDER = \"black\"\n",
    "\n",
    "    def __init__(self, master, x, y, size, fill=\"white\", outline=\"black\"):\n",
    "        \"\"\" Constructor of the object called by Cell(...) \"\"\"\n",
    "        self.master = master\n",
    "        self.abs = x\n",
    "        self.ord = y\n",
    "        self.size= size\n",
    "        self.fill= fill\n",
    "        self.outline=outline\n",
    "\n",
    "    def _switch(self):\n",
    "        \"\"\" Switch if the cell is filled or not. \"\"\"\n",
    "        self.fill= not self.fill\n",
    "\n",
    "    def draw(self):\n",
    "        \"\"\" order to the cell to draw its representation on the canvas \"\"\"\n",
    "        if self.master != None :\n",
    "            fill = self.fill\n",
    "            outline = self.outline\n",
    "            \n",
    "            xmin = self.abs * self.size\n",
    "            xmax = xmin + self.size\n",
    "            ymin = self.ord * self.size\n",
    "            ymax = ymin + self.size\n",
    "\n",
    "            self.master.create_rectangle(xmin, ymin, xmax, ymax, fill = fill, outline = outline)\n",
    "\n",
    "class CellGrid(Canvas):\n",
    "    def __init__(self, master, rowNumber, columnNumber, cellSize, our_position, his_position, walls, time_left, *args, **kwargs):\n",
    "        Canvas.__init__(self, master, width = cellSize * columnNumber , height = cellSize * rowNumber, *args, **kwargs)\n",
    "\n",
    "        self.cellSize = cellSize\n",
    "        self.grid = []\n",
    "        for row in range(rowNumber):\n",
    "            line = []\n",
    "            for column in range(columnNumber):\n",
    "                line.append(Cell(self, column, row, cellSize))\n",
    "            self.grid.append(line)\n",
    "        \n",
    "        self.our_position = our_position\n",
    "        self.his_position = his_position\n",
    "        self.walls = walls\n",
    "        self.time_left = time_left\n",
    "        \n",
    "        #memorize the cells that have been modified to avoid many switching of state during mouse motion.\n",
    "        #self.switched = []\n",
    "\n",
    "        #bind click action\n",
    "        self.bind(\"<Button-1>\", self.handleMouseClickStep)  \n",
    "        #bind moving while clicking\n",
    "        #self.bind(\"<B1-Motion>\", self.handleMouseMotion)\n",
    "        #bind release button action - clear the memory of midified cells.\n",
    "        #self.bind(\"<ButtonRelease-1>\", lambda event: self.switched.clear())\n",
    "\n",
    "        self.draw()\n",
    "        self.finished = False\n",
    "        \n",
    "\n",
    "    def draw(self):\n",
    "        for row in self.grid:\n",
    "            for cell in row:\n",
    "                cell.draw()\n",
    "        # Drawing the players\n",
    "        Cell(self, self.our_position[0], self.our_position[1], self.cellSize, \"green\", Cell.FILLED_COLOR_BORDER).draw()\n",
    "        Cell(self, self.his_position[0], self.his_position[1], self.cellSize, \"red\", Cell.FILLED_COLOR_BORDER).draw()\n",
    "        \n",
    "        \n",
    "        \n",
    "\n",
    "    def _eventCoords(self, event):\n",
    "        row = int(event.y / self.cellSize)\n",
    "        column = int(event.x / self.cellSize)\n",
    "        return row, column\n",
    "\n",
    "    def handleMouseClickStep(self, event):\n",
    "        if not self.finished:\n",
    "            self.step()\n",
    "        \n",
    "        \n",
    "    def handleMouseClick(self, event):\n",
    "        row, column = self._eventCoords(event)\n",
    "        cell = self.grid[row][column]\n",
    "        cell._switch()\n",
    "        cell.draw()\n",
    "        #add the cell to the list of cell switched during the click\n",
    "        self.switched.append(cell)\n",
    "\n",
    "    def handleMouseMotion(self, event):\n",
    "        row, column = self._eventCoords(event)\n",
    "        cell = self.grid[row][column]\n",
    "\n",
    "        if cell not in self.switched:\n",
    "            cell._switch()\n",
    "            cell.draw()\n",
    "            self.switched.append(cell)\n",
    "    \n",
    "    def step(self):\n",
    "        #sleep(0.3)\n",
    "        best_pos = None\n",
    "        best_val = -np.infty\n",
    "        #time_left = time_horizon-t\n",
    "        his_pos_new = [PartialState.step(self.his_position, act) for act in PartialState.getActions(self.his_position, walls)]\n",
    "        his_p_size = len(his_pos_new)\n",
    "        for direction in PartialState.getActions(self.our_position, self.walls):\n",
    "            our_pos_new = PartialState.step(self.our_position, direction)\n",
    "            val = np.sum([V[(self.time_left-1, *our_pos_new, *his_p_new)] for his_p_new in his_pos_new])/his_p_size\n",
    "            if val > best_val:\n",
    "                best_val = val\n",
    "                best_pos = our_pos_new\n",
    "        self.our_position = best_pos\n",
    "        self.time_left = self.time_left-1\n",
    "\n",
    "        self.his_position = his_pos_new[np.random.choice(his_p_size)]\n",
    "        \n",
    "        self.draw()\n",
    "        if self.our_position == self.his_position or self.time_left == 0:\n",
    "            self.finished = True\n",
    "            \n",
    "app = Tk()\n",
    "grid = CellGrid(app, map_height, map_width, 50, our_pos_zero, his_pos_zero, walls, T)\n",
    "grid.pack()\n",
    "app.mainloop()"
   ]
  },
  {
   "cell_type": "code",
   "execution_count": 16,
   "metadata": {},
   "outputs": [
    {
     "data": {
      "text/plain": [
       "0"
      ]
     },
     "execution_count": 16,
     "metadata": {},
     "output_type": "execute_result"
    }
   ],
   "source": [
    "np.random.choice(5)"
   ]
  },
  {
   "cell_type": "code",
   "execution_count": 22,
   "metadata": {},
   "outputs": [
    {
     "name": "stdout",
     "output_type": "stream",
     "text": [
      "[array([[0, 1, 2, 3, 4, 5],\n",
      "       [0, 1, 2, 3, 4, 5],\n",
      "       [0, 1, 2, 3, 4, 5],\n",
      "       [0, 1, 2, 3, 4, 5],\n",
      "       [0, 1, 2, 3, 4, 5]]), array([[0, 0, 0, 0, 0, 0],\n",
      "       [1, 1, 1, 1, 1, 1],\n",
      "       [2, 2, 2, 2, 2, 2],\n",
      "       [3, 3, 3, 3, 3, 3],\n",
      "       [4, 4, 4, 4, 4, 4]])]\n"
     ]
    }
   ],
   "source": [
    "x_range = np.arange(map_width)\n",
    "y_range = np.arange(map_height)\n",
    "mixed_states = np.meshgrid(x_range, y_range)\n",
    "print(mixed_states)"
   ]
  },
  {
   "cell_type": "code",
   "execution_count": 9,
   "metadata": {},
   "outputs": [
    {
     "data": {
      "text/plain": [
       "(0, 2)"
      ]
     },
     "execution_count": 9,
     "metadata": {},
     "output_type": "execute_result"
    }
   ],
   "source": [
    "pos = (0,1)\n",
    "PartialState.step(pos, Direction.DOWN)"
   ]
  }
 ],
 "metadata": {
  "kernelspec": {
   "display_name": "Python 3",
   "language": "python",
   "name": "python3"
  },
  "language_info": {
   "codemirror_mode": {
    "name": "ipython",
    "version": 3
   },
   "file_extension": ".py",
   "mimetype": "text/x-python",
   "name": "python",
   "nbconvert_exporter": "python",
   "pygments_lexer": "ipython3",
   "version": "3.6.5"
  }
 },
 "nbformat": 4,
 "nbformat_minor": 2
}
