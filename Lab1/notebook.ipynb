{
 "cells": [
  {
   "cell_type": "code",
   "execution_count": 3,
   "metadata": {},
   "outputs": [],
   "source": [
    "import numpy as np\n",
    "from enum import Enum"
   ]
  },
  {
   "cell_type": "code",
   "execution_count": 36,
   "metadata": {},
   "outputs": [],
   "source": [
    "T = 15 # time limit\n",
    "map_height=5\n",
    "map_width=6\n",
    "walls = { (1,0): [Direction.RIGHT], (1,1): [Direction.RIGHT], (1,2): [Direction.RIGHT],\n",
    "        (3,1): [Direction.RIGHT], (3,2): [Direction.RIGHT],\n",
    "        (4,1): [Direction.DOWN], (5,1): [Direction.DOWN],\n",
    "        (1,3): [Direction.DOWN], (2,3): [Direction.DOWN], (3,3): [Direction.DOWN], (4,3): [Direction.DOWN],\n",
    "        (3,4): [Direction.LEFT] }\n",
    "\n",
    "class Direction(Enum):\n",
    "    NONE = 0\n",
    "    LEFT = 1\n",
    "    UP = 2\n",
    "    RIGHT = 3\n",
    "    DOWN = 4\n",
    "    \n",
    "    @classmethod\n",
    "    def inverse(cls, direction):\n",
    "        if direction is cls.NONE:\n",
    "            return cls.NONE\n",
    "        if direction is cls.LEFT:\n",
    "            return cls.RIGHT\n",
    "        if direction is cls.UP:\n",
    "            return cls.DOWN\n",
    "        if direction is cls.RIGHT:\n",
    "            return cls.LEFT\n",
    "        if direction is cls.DOWN:\n",
    "            return cls.UP\n",
    "\n",
    "mirror_walls = {}\n",
    "for key,vals in walls.items():\n",
    "    \n",
    "    for val in vals:\n",
    "        \n",
    "        \n",
    "        \n",
    "        temp_list = mirror_walls.get(, [])\n",
    "        temp_list.append()\n",
    "\n",
    "    \n",
    "walls.append(mirror_walls)"
   ]
  },
  {
   "cell_type": "code",
   "execution_count": 38,
   "metadata": {},
   "outputs": [],
   "source": [
    "# Our partial state (without the minotaur)\n",
    "class PartialState:\n",
    "    \n",
    "    def __init__(self, pos):\n",
    "        self.pos = pos # (x, y) tuple\n",
    "        \n",
    "    def getActions(self):\n",
    "        walls_dirs = walls.get(self.pos, [])\n",
    "        return [item for it in Direction if it not in walls_dirs]\n",
    "        \n",
    "    \n",
    "    def act(self, direction):\n",
    "        # Validity check\n",
    "        if direction not in getActions():\n",
    "            raise Exception(\"Illegal action!\")\n",
    "        self.pos = PartialState.act_simple(self.pos, direction)\n",
    "    \n",
    "    @classmethod\n",
    "    def act_simple(cls, pos, direction):\n",
    "        if direction is Direction.NONE:\n",
    "            return (pos[0], pos[1])\n",
    "        if direction is Direction.LEFT:\n",
    "            return (pos[0]-1, pos[1])\n",
    "        if direction is Direction.UP:\n",
    "            return (pos[0], pos[1]-1)\n",
    "        if direction is Direction.RIGHT:\n",
    "            return (pos[0]+1, pos[1])\n",
    "        return (pos[0], pos[1]+1)\n",
    "        \n",
    "    "
   ]
  },
  {
   "cell_type": "code",
   "execution_count": 39,
   "metadata": {},
   "outputs": [
    {
     "ename": "AttributeError",
     "evalue": "'tuple' object has no attribute 'x'",
     "output_type": "error",
     "traceback": [
      "\u001b[0;31m---------------------------------------------------------------------------\u001b[0m",
      "\u001b[0;31mAttributeError\u001b[0m                            Traceback (most recent call last)",
      "\u001b[0;32m<ipython-input-39-0b22a5be1548>\u001b[0m in \u001b[0;36m<module>\u001b[0;34m()\u001b[0m\n\u001b[1;32m      1\u001b[0m \u001b[0mpos\u001b[0m \u001b[0;34m=\u001b[0m \u001b[0;34m(\u001b[0m\u001b[0;36m0\u001b[0m\u001b[0;34m,\u001b[0m\u001b[0;36m1\u001b[0m\u001b[0;34m)\u001b[0m\u001b[0;34m\u001b[0m\u001b[0m\n\u001b[0;32m----> 2\u001b[0;31m \u001b[0mPartialState\u001b[0m\u001b[0;34m.\u001b[0m\u001b[0mact_simple\u001b[0m\u001b[0;34m(\u001b[0m\u001b[0mpos\u001b[0m\u001b[0;34m,\u001b[0m \u001b[0mDirection\u001b[0m\u001b[0;34m.\u001b[0m\u001b[0mLEFT\u001b[0m\u001b[0;34m)\u001b[0m\u001b[0;34m\u001b[0m\u001b[0m\n\u001b[0m",
      "\u001b[0;32m<ipython-input-38-c7db28a7782d>\u001b[0m in \u001b[0;36mact_simple\u001b[0;34m(cls, pos, direction)\u001b[0m\n\u001b[1;32m     21\u001b[0m             \u001b[0;32mreturn\u001b[0m \u001b[0;34m(\u001b[0m\u001b[0mpos\u001b[0m\u001b[0;34m.\u001b[0m\u001b[0mx\u001b[0m\u001b[0;34m,\u001b[0m \u001b[0mpos\u001b[0m\u001b[0;34m.\u001b[0m\u001b[0my\u001b[0m\u001b[0;34m)\u001b[0m\u001b[0;34m\u001b[0m\u001b[0m\n\u001b[1;32m     22\u001b[0m         \u001b[0;32mif\u001b[0m \u001b[0mdirection\u001b[0m \u001b[0;32mis\u001b[0m \u001b[0mDirection\u001b[0m\u001b[0;34m.\u001b[0m\u001b[0mLEFT\u001b[0m\u001b[0;34m:\u001b[0m\u001b[0;34m\u001b[0m\u001b[0m\n\u001b[0;32m---> 23\u001b[0;31m             \u001b[0;32mreturn\u001b[0m \u001b[0;34m(\u001b[0m\u001b[0mpos\u001b[0m\u001b[0;34m.\u001b[0m\u001b[0mx\u001b[0m\u001b[0;34m-\u001b[0m\u001b[0;36m1\u001b[0m\u001b[0;34m,\u001b[0m \u001b[0mpos\u001b[0m\u001b[0;34m.\u001b[0m\u001b[0my\u001b[0m\u001b[0;34m)\u001b[0m\u001b[0;34m\u001b[0m\u001b[0m\n\u001b[0m\u001b[1;32m     24\u001b[0m         \u001b[0;32mif\u001b[0m \u001b[0mdirection\u001b[0m \u001b[0;32mis\u001b[0m \u001b[0mDirection\u001b[0m\u001b[0;34m.\u001b[0m\u001b[0mUP\u001b[0m\u001b[0;34m:\u001b[0m\u001b[0;34m\u001b[0m\u001b[0m\n\u001b[1;32m     25\u001b[0m             \u001b[0;32mreturn\u001b[0m \u001b[0;34m(\u001b[0m\u001b[0mpos\u001b[0m\u001b[0;34m.\u001b[0m\u001b[0mx\u001b[0m\u001b[0;34m,\u001b[0m \u001b[0mpos\u001b[0m\u001b[0;34m.\u001b[0m\u001b[0my\u001b[0m\u001b[0;34m-\u001b[0m\u001b[0;36m1\u001b[0m\u001b[0;34m)\u001b[0m\u001b[0;34m\u001b[0m\u001b[0m\n",
      "\u001b[0;31mAttributeError\u001b[0m: 'tuple' object has no attribute 'x'"
     ]
    }
   ],
   "source": [
    "pos = (0,1)\n",
    "PartialState.act_simple(pos, Direction.LEFT)"
   ]
  }
 ],
 "metadata": {
  "kernelspec": {
   "display_name": "Python 3",
   "language": "python",
   "name": "python3"
  },
  "language_info": {
   "codemirror_mode": {
    "name": "ipython",
    "version": 3
   },
   "file_extension": ".py",
   "mimetype": "text/x-python",
   "name": "python",
   "nbconvert_exporter": "python",
   "pygments_lexer": "ipython3",
   "version": "3.6.5"
  }
 },
 "nbformat": 4,
 "nbformat_minor": 2
}
