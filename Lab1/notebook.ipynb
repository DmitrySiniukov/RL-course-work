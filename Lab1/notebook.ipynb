{
 "cells": [
  {
   "cell_type": "code",
   "execution_count": 10,
   "metadata": {},
   "outputs": [],
   "source": [
    "import numpy as np\n",
    "from enum import Enum"
   ]
  },
  {
   "cell_type": "code",
   "execution_count": 11,
   "metadata": {},
   "outputs": [],
   "source": [
    "T = 15 # time limit\n",
    "map_height = 5\n",
    "map_width = 6"
   ]
  },
  {
   "cell_type": "code",
   "execution_count": 12,
   "metadata": {},
   "outputs": [],
   "source": [
    "class Direction(Enum):\n",
    "    NONE = 0\n",
    "    LEFT = 1\n",
    "    UP = 2\n",
    "    RIGHT = 3\n",
    "    DOWN = 4\n",
    "    \n",
    "    @classmethod\n",
    "    def inverse(cls, direction):\n",
    "        if direction is cls.NONE:\n",
    "            return cls.NONE\n",
    "        if direction is cls.LEFT:\n",
    "            return cls.RIGHT\n",
    "        if direction is cls.UP:\n",
    "            return cls.DOWN\n",
    "        if direction is cls.RIGHT:\n",
    "            return cls.LEFT\n",
    "        if direction is cls.DOWN:\n",
    "            return cls.UP"
   ]
  },
  {
   "cell_type": "code",
   "execution_count": 13,
   "metadata": {},
   "outputs": [],
   "source": [
    "# Our partial state (without the minotaur)\n",
    "class PartialState:\n",
    "    \n",
    "    def __init__(self, pos):\n",
    "        self.pos = pos # (x, y) tuple\n",
    "        \n",
    "    def getActions(self):\n",
    "        walls_dirs = walls.get(self.pos, [])\n",
    "        return [item for it in Direction if it not in walls_dirs] # add the borders-check\n",
    "        \n",
    "    \n",
    "    def act(self, direction):\n",
    "        # Validity check\n",
    "        if direction not in getActions():\n",
    "            raise Exception(\"Illegal action!\")\n",
    "        self.pos = PartialState.step(self.pos, direction)\n",
    "    \n",
    "    @classmethod\n",
    "    def step(cls, pos, direction):\n",
    "        if direction is Direction.NONE:\n",
    "            return (pos[0], pos[1])\n",
    "        if direction is Direction.LEFT:\n",
    "            return (pos[0]-1, pos[1])\n",
    "        if direction is Direction.UP:\n",
    "            return (pos[0], pos[1]-1)\n",
    "        if direction is Direction.RIGHT:\n",
    "            return (pos[0]+1, pos[1])\n",
    "        return (pos[0], pos[1]+1)\n",
    "        \n",
    "    "
   ]
  },
  {
   "cell_type": "code",
   "execution_count": 14,
   "metadata": {},
   "outputs": [],
   "source": [
    "# One-way walls\n",
    "walls = { (1,0): [Direction.RIGHT], (1,1): [Direction.RIGHT], (1,2): [Direction.RIGHT],\n",
    "        (3,1): [Direction.RIGHT], (3,2): [Direction.RIGHT],\n",
    "        (4,1): [Direction.DOWN], (5,1): [Direction.DOWN],\n",
    "        (1,3): [Direction.DOWN], (2,3): [Direction.DOWN], (3,3): [Direction.DOWN], (4,3): [Direction.DOWN],\n",
    "        (3,4): [Direction.RIGHT] }\n",
    "\n",
    "# New values are appended to the first (base) dictionary\n",
    "def append_to_dict(base_dict, new_vals):\n",
    "    for key,vals in new_vals.items():\n",
    "        base_vals = base_dict.get(key, None)\n",
    "        if base_vals is None:\n",
    "            base_vals = []\n",
    "            base_dict[key] = base_vals\n",
    "        base_vals.extend(vals)\n",
    "\n",
    "# Mirroring the walls\n",
    "mirror_walls = {}\n",
    "for key,vals in walls.items():\n",
    "    for val in vals:\n",
    "        mirror_pos = PartialState.step(key, val)\n",
    "        mirror_vals = mirror_walls.get(mirror_pos, None)\n",
    "        if mirror_vals is None:\n",
    "            mirror_vals = []\n",
    "            mirror_walls[mirror_pos] = mirror_vals\n",
    "        mirror_vals.append(Direction.inverse(val))\n",
    "append_to_dict(walls, mirror_walls)"
   ]
  },
  {
   "cell_type": "code",
   "execution_count": 15,
   "metadata": {},
   "outputs": [
    {
     "data": {
      "text/plain": [
       "{(1, 0): [<Direction.RIGHT: 3>],\n",
       " (1, 1): [<Direction.RIGHT: 3>],\n",
       " (1, 2): [<Direction.RIGHT: 3>],\n",
       " (3, 1): [<Direction.RIGHT: 3>],\n",
       " (3, 2): [<Direction.RIGHT: 3>],\n",
       " (4, 1): [<Direction.DOWN: 4>, <Direction.LEFT: 1>],\n",
       " (5, 1): [<Direction.DOWN: 4>],\n",
       " (1, 3): [<Direction.DOWN: 4>],\n",
       " (2, 3): [<Direction.DOWN: 4>],\n",
       " (3, 3): [<Direction.DOWN: 4>],\n",
       " (4, 3): [<Direction.DOWN: 4>],\n",
       " (3, 4): [<Direction.RIGHT: 3>, <Direction.UP: 2>],\n",
       " (2, 0): [<Direction.LEFT: 1>],\n",
       " (2, 1): [<Direction.LEFT: 1>],\n",
       " (2, 2): [<Direction.LEFT: 1>],\n",
       " (4, 2): [<Direction.LEFT: 1>, <Direction.UP: 2>],\n",
       " (5, 2): [<Direction.UP: 2>],\n",
       " (1, 4): [<Direction.UP: 2>],\n",
       " (2, 4): [<Direction.UP: 2>],\n",
       " (4, 4): [<Direction.UP: 2>, <Direction.LEFT: 1>]}"
      ]
     },
     "execution_count": 15,
     "metadata": {},
     "output_type": "execute_result"
    }
   ],
   "source": [
    "walls"
   ]
  },
  {
   "cell_type": "code",
   "execution_count": 16,
   "metadata": {},
   "outputs": [
    {
     "data": {
      "text/plain": [
       "(0, 2)"
      ]
     },
     "execution_count": 16,
     "metadata": {},
     "output_type": "execute_result"
    }
   ],
   "source": [
    "pos = (0,1)\n",
    "PartialState.step(pos, Direction.DOWN)"
   ]
  }
 ],
 "metadata": {
  "kernelspec": {
   "display_name": "Python 3",
   "language": "python",
   "name": "python3"
  },
  "language_info": {
   "codemirror_mode": {
    "name": "ipython",
    "version": 3
   },
   "file_extension": ".py",
   "mimetype": "text/x-python",
   "name": "python",
   "nbconvert_exporter": "python",
   "pygments_lexer": "ipython3",
   "version": "3.6.5"
  }
 },
 "nbformat": 4,
 "nbformat_minor": 2
}
