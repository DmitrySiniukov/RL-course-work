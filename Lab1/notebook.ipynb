{
 "cells": [
  {
   "cell_type": "code",
   "execution_count": 7,
   "metadata": {},
   "outputs": [],
   "source": [
    "import numpy as np\n",
    "from enum import Enum"
   ]
  },
  {
   "cell_type": "code",
   "execution_count": 17,
   "metadata": {},
   "outputs": [],
   "source": [
    "T = 15 # time limit\n",
    "map_width = 6\n",
    "map_height = 5\n",
    "map_size = (map_width, map_height)\n",
    "theta = 1e-6\n",
    "our_pos_zero = (0,0)\n",
    "his_pos_zero = (4,4)\n",
    "exit_pos = (4,4)"
   ]
  },
  {
   "cell_type": "code",
   "execution_count": 9,
   "metadata": {},
   "outputs": [],
   "source": [
    "class Direction(Enum):\n",
    "    NONE = 0\n",
    "    LEFT = 1\n",
    "    UP = 2\n",
    "    RIGHT = 3\n",
    "    DOWN = 4\n",
    "    \n",
    "    @classmethod\n",
    "    def inverse(cls, direction):\n",
    "        if direction is cls.NONE:\n",
    "            return cls.NONE\n",
    "        if direction is cls.LEFT:\n",
    "            return cls.RIGHT\n",
    "        if direction is cls.UP:\n",
    "            return cls.DOWN\n",
    "        if direction is cls.RIGHT:\n",
    "            return cls.LEFT\n",
    "        if direction is cls.DOWN:\n",
    "            return cls.UP"
   ]
  },
  {
   "cell_type": "code",
   "execution_count": 10,
   "metadata": {},
   "outputs": [],
   "source": [
    "# Our partial state (without the minotaur)\n",
    "class PartialState:\n",
    "    \n",
    "    def __init__(self, pos):\n",
    "        self.pos = pos # (x, y) tuple\n",
    "        \n",
    "    def getActions(self):\n",
    "        walls_dirs = walls.get(self.pos, [])\n",
    "        return [item for it in Direction if it not in walls_dirs] # add the borders-check\n",
    "    \n",
    "    def act(self, direction):\n",
    "        # Validity check\n",
    "        if direction not in getActions():\n",
    "            raise Exception(\"Illegal action!\")\n",
    "        self.pos = PartialState.step(self.pos, direction)\n",
    "    \n",
    "    @classmethod\n",
    "    def step(cls, pos, direction):\n",
    "        if direction is Direction.NONE:\n",
    "            return (pos[0], pos[1])\n",
    "        if direction is Direction.LEFT:\n",
    "            return (pos[0]-1, pos[1])\n",
    "        if direction is Direction.UP:\n",
    "            return (pos[0], pos[1]-1)\n",
    "        if direction is Direction.RIGHT:\n",
    "            return (pos[0]+1, pos[1])\n",
    "        return (pos[0], pos[1]+1)\n",
    "        \n",
    "    "
   ]
  },
  {
   "cell_type": "code",
   "execution_count": null,
   "metadata": {},
   "outputs": [],
   "source": [
    "class State:\n",
    "    \n",
    "    def __init__(self, part_state, minotaur_pos):\n",
    "        self.minotaur_pos = minotaur_pos # (x, y) tuple of the Minotaur's position\n",
    "        self.part_state = part_state\n",
    "    \n"
   ]
  },
  {
   "cell_type": "code",
   "execution_count": 14,
   "metadata": {},
   "outputs": [],
   "source": [
    "# One-way walls\n",
    "walls = { (1,0): [Direction.RIGHT], (1,1): [Direction.RIGHT], (1,2): [Direction.RIGHT],\n",
    "        (3,1): [Direction.RIGHT], (3,2): [Direction.RIGHT],\n",
    "        (4,1): [Direction.DOWN], (5,1): [Direction.DOWN],\n",
    "        (1,3): [Direction.DOWN], (2,3): [Direction.DOWN], (3,3): [Direction.DOWN], (4,3): [Direction.DOWN],\n",
    "        (3,4): [Direction.RIGHT] }\n",
    "\n",
    "# New values are appended to the first (base) dictionary\n",
    "def append_to_dict(base_dict, new_vals):\n",
    "    for key,vals in new_vals.items():\n",
    "        base_vals = base_dict.get(key, None)\n",
    "        if base_vals is None:\n",
    "            base_vals = []\n",
    "            base_dict[key] = base_vals\n",
    "        base_vals.extend(vals)\n",
    "\n",
    "# Mirroring the walls\n",
    "mirror_walls = {}\n",
    "for key,vals in walls.items():\n",
    "    for val in vals:\n",
    "        mirror_pos = PartialState.step(key, val)\n",
    "        mirror_vals = mirror_walls.get(mirror_pos, None)\n",
    "        if mirror_vals is None:\n",
    "            mirror_vals = []\n",
    "            mirror_walls[mirror_pos] = mirror_vals\n",
    "        mirror_vals.append(Direction.inverse(val))\n",
    "append_to_dict(walls, mirror_walls)"
   ]
  },
  {
   "cell_type": "code",
   "execution_count": 5,
   "metadata": {},
   "outputs": [
    {
     "name": "stdout",
     "output_type": "stream",
     "text": [
      "0 ,  0\n",
      "0 ,  1\n",
      "0 ,  2\n",
      "0 ,  3\n",
      "0 ,  4\n",
      "1 ,  0\n",
      "1 ,  1\n",
      "1 ,  2\n",
      "1 ,  3\n",
      "1 ,  4\n",
      "2 ,  0\n",
      "2 ,  1\n",
      "2 ,  2\n",
      "2 ,  3\n",
      "2 ,  4\n",
      "3 ,  0\n",
      "3 ,  1\n",
      "3 ,  2\n",
      "3 ,  3\n",
      "3 ,  4\n",
      "4 ,  0\n",
      "4 ,  1\n",
      "4 ,  2\n",
      "4 ,  3\n",
      "4 ,  4\n",
      "5 ,  0\n",
      "5 ,  1\n",
      "5 ,  2\n",
      "5 ,  3\n",
      "5 ,  4\n"
     ]
    }
   ],
   "source": [
    "# \n",
    "time_left = 30\n",
    "state_space_size = (time_left, *map_size, *map_size)\n",
    "V = np.zeros(state_space_size)\n",
    "\n",
    "for our_x, our_y, his_x, his_y, t_left in np.ndindex(state_space_size):\n",
    "    our_pos = (our_x, our_y)\n",
    "    his_pos = (his_x, his_y)\n",
    "    s = (t_left, *our_pos, *his_pos)\n",
    "    v = V[s]\n",
    "    r = 0 # reward\n",
    "    if t_left == 0 and our_pos != exit_pos:\n",
    "        r = -1 # Ran out of time\n",
    "    elif our_pos == his_pos:\n",
    "        r = -1 # Eaten\n",
    "    elif our_pos == exit_pos:\n",
    "        r = 1 # Made it\n",
    "    \n",
    "    \n",
    "                    \n",
    "                        "
   ]
  },
  {
   "cell_type": "code",
   "execution_count": null,
   "metadata": {},
   "outputs": [],
   "source": []
  },
  {
   "cell_type": "code",
   "execution_count": null,
   "metadata": {},
   "outputs": [],
   "source": []
  },
  {
   "cell_type": "code",
   "execution_count": null,
   "metadata": {},
   "outputs": [],
   "source": []
  },
  {
   "cell_type": "code",
   "execution_count": null,
   "metadata": {},
   "outputs": [],
   "source": []
  },
  {
   "cell_type": "code",
   "execution_count": 22,
   "metadata": {},
   "outputs": [
    {
     "name": "stdout",
     "output_type": "stream",
     "text": [
      "[array([[0, 1, 2, 3, 4, 5],\n",
      "       [0, 1, 2, 3, 4, 5],\n",
      "       [0, 1, 2, 3, 4, 5],\n",
      "       [0, 1, 2, 3, 4, 5],\n",
      "       [0, 1, 2, 3, 4, 5]]), array([[0, 0, 0, 0, 0, 0],\n",
      "       [1, 1, 1, 1, 1, 1],\n",
      "       [2, 2, 2, 2, 2, 2],\n",
      "       [3, 3, 3, 3, 3, 3],\n",
      "       [4, 4, 4, 4, 4, 4]])]\n"
     ]
    }
   ],
   "source": [
    "x_range = np.arange(map_width)\n",
    "y_range = np.arange(map_height)\n",
    "mixed_states = np.meshgrid(x_range, y_range)\n",
    "print(mixed_states)"
   ]
  },
  {
   "cell_type": "code",
   "execution_count": 16,
   "metadata": {},
   "outputs": [
    {
     "data": {
      "text/plain": [
       "(0, 2)"
      ]
     },
     "execution_count": 16,
     "metadata": {},
     "output_type": "execute_result"
    }
   ],
   "source": [
    "pos = (0,1)\n",
    "PartialState.step(pos, Direction.DOWN)"
   ]
  }
 ],
 "metadata": {
  "kernelspec": {
   "display_name": "Python 3",
   "language": "python",
   "name": "python3"
  },
  "language_info": {
   "codemirror_mode": {
    "name": "ipython",
    "version": 3
   },
   "file_extension": ".py",
   "mimetype": "text/x-python",
   "name": "python",
   "nbconvert_exporter": "python",
   "pygments_lexer": "ipython3",
   "version": "3.6.5"
  }
 },
 "nbformat": 4,
 "nbformat_minor": 2
}
