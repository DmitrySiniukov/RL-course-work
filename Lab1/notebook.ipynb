{
 "cells": [
  {
   "cell_type": "code",
   "execution_count": 3,
   "metadata": {},
   "outputs": [],
   "source": [
    "import numpy as np\n",
    "from enum import Enum"
   ]
  },
  {
   "cell_type": "code",
   "execution_count": 6,
   "metadata": {},
   "outputs": [],
   "source": [
    "class Direction(Enum):\n",
    "    NONE = 0\n",
    "    LEFT = 1\n",
    "    UP = 2\n",
    "    RIGHT = 3\n",
    "    DOWN = 4"
   ]
  },
  {
   "cell_type": "code",
   "execution_count": 11,
   "metadata": {},
   "outputs": [],
   "source": [
    "# Our partial state (without the minotaur)\n",
    "class PartialState:\n",
    "    \n",
    "    def __init__(self, x, y):\n",
    "        self.x = x\n",
    "        self.y = y\n",
    "        \n",
    "    def getActions(self):\n",
    "        # TODO: fetch all possible actions\n",
    "        return [Direction.NONE, Direction.LEFT, Direction.UP, Direction.RIGHT, Direction.DOWN]\n",
    "    \n",
    "    def act(self, direction):\n",
    "        # Validity check\n",
    "        if direction not in getActions():\n",
    "            raise Exception(\"Illegal action!\")\n",
    "        \n",
    "        if direction is Direction.NONE:\n",
    "            return\n",
    "        if direction is Direction.LEFT:\n",
    "            self.x -= 1\n",
    "            return\n",
    "        if direction is Direction.UP:\n",
    "            self.y -= 1\n",
    "            return\n",
    "        if direction is Direction.RIGHT:\n",
    "            self.x += 1\n",
    "            return\n",
    "        if direction is Direction.DOWN:\n",
    "            self.y += 1\n",
    "        \n",
    "    "
   ]
  },
  {
   "cell_type": "code",
   "execution_count": 5,
   "metadata": {},
   "outputs": [],
   "source": [
    "map_height=5\n",
    "map_width=6\n",
    "position = (0,1)\n",
    "walls = { (1,0): [Direction.RIGHT], (1,1): [Direction.RIGHT], (1,2): [Direction.RIGHT],\n",
    "        (3,1): [Direction.RIGHT], (3,2): [Direction.RIGHT],\n",
    "        (4,1): [Direction.DOWN], (5,1): [Direction.DOWN],\n",
    "        (1,3): [Direction.DOWN], (2,3): [Direction.DOWN], (3,3): [Direction.DOWN], (4,3): [Direction.DOWN],\n",
    "        (3,4): [Direction.LEFT] }"
   ]
  }
 ],
 "metadata": {
  "kernelspec": {
   "display_name": "Python 3",
   "language": "python",
   "name": "python3"
  },
  "language_info": {
   "codemirror_mode": {
    "name": "ipython",
    "version": 3
   },
   "file_extension": ".py",
   "mimetype": "text/x-python",
   "name": "python",
   "nbconvert_exporter": "python",
   "pygments_lexer": "ipython3",
   "version": "3.6.5"
  }
 },
 "nbformat": 4,
 "nbformat_minor": 2
}
