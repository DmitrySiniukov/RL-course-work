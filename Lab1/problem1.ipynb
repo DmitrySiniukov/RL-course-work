{
 "cells": [
  {
   "cell_type": "code",
   "execution_count": 1,
   "metadata": {},
   "outputs": [],
   "source": [
    "import numpy as np\n",
    "from tkinter import *\n",
    "from enum import Enum\n",
    "from time import sleep\n",
    "from collections import deque\n",
    "import matplotlib.pyplot as plt"
   ]
  },
  {
   "cell_type": "code",
   "execution_count": 41,
   "metadata": {},
   "outputs": [],
   "source": [
    "T = 15 # time limit\n",
    "map_width = 6\n",
    "map_height = 5\n",
    "map_size = (map_width, map_height)\n",
    "our_pos_zero = (0,0)\n",
    "his_pos_zero = (4,4)\n",
    "exit_pos = (4,4)\n",
    "stayStill = False"
   ]
  },
  {
   "cell_type": "code",
   "execution_count": 3,
   "metadata": {},
   "outputs": [],
   "source": [
    "class Step(Enum):\n",
    "    NONE = (0,0)\n",
    "    LEFT = (-1,0)\n",
    "    UP = (0,-1)\n",
    "    RIGHT = (1,0)\n",
    "    DOWN = (0,1)"
   ]
  },
  {
   "cell_type": "code",
   "execution_count": 4,
   "metadata": {},
   "outputs": [],
   "source": [
    "class Direction(Enum):\n",
    "    NONE = 0\n",
    "    LEFT = 1\n",
    "    UP = 2\n",
    "    RIGHT = 3\n",
    "    DOWN = 4\n",
    "    \n",
    "    @classmethod\n",
    "    def inverse(cls, direction):\n",
    "        if direction is cls.NONE:\n",
    "            return cls.NONE\n",
    "        if direction is cls.LEFT:\n",
    "            return cls.RIGHT\n",
    "        if direction is cls.UP:\n",
    "            return cls.DOWN\n",
    "        if direction is cls.RIGHT:\n",
    "            return cls.LEFT\n",
    "        if direction is cls.DOWN:\n",
    "            return cls.UP"
   ]
  },
  {
   "cell_type": "code",
   "execution_count": 5,
   "metadata": {},
   "outputs": [],
   "source": [
    "def in_map(pos):\n",
    "    if (pos[0] < 0 or pos[1] < 0 or pos[0] >= map_width or pos[1] >= map_height):\n",
    "        return False\n",
    "    return True"
   ]
  },
  {
   "cell_type": "code",
   "execution_count": 7,
   "metadata": {},
   "outputs": [],
   "source": [
    "# Our partial state (without the minotaur)\n",
    "class PartialState:\n",
    "    \n",
    "    def __init__(self, pos):\n",
    "        self.pos = pos # (x, y) tuple\n",
    "        \n",
    "    def getActions(self):\n",
    "        walls_dirs = walls.get(self.pos, [])\n",
    "        return [item for it in Direction if it not in walls_dirs and in_map(PartialState.step(self.pos, it))]\n",
    "    \n",
    "    def act(self, direction):\n",
    "        # Validity check\n",
    "        if direction not in getActions():\n",
    "            raise Exception(\"Illegal action!\")\n",
    "        self.pos = PartialState.step(self.pos, direction)\n",
    "    \n",
    "    @classmethod\n",
    "    def step(cls, pos, direction):\n",
    "        if direction is Direction.NONE:\n",
    "            return (pos[0], pos[1])\n",
    "        if direction is Direction.LEFT:\n",
    "            return (pos[0]-1, pos[1])\n",
    "        if direction is Direction.UP:\n",
    "            return (pos[0], pos[1]-1)\n",
    "        if direction is Direction.RIGHT:\n",
    "            return (pos[0]+1, pos[1])\n",
    "        return (pos[0], pos[1]+1)\n",
    "    \n",
    "    @classmethod\n",
    "    def getActions(cls, pos, walls, minotaur):\n",
    "        walls_dirs = walls.get(pos, [])\n",
    "        return [dr for dr in Direction if dr not in walls_dirs and in_map(PartialState.step(pos, dr)) and \n",
    "               ((not minotaur) or (dr is not Direction.NONE) or stayStill)]\n",
    "    "
   ]
  },
  {
   "cell_type": "markdown",
   "metadata": {},
   "source": [
    "## Defining walls"
   ]
  },
  {
   "cell_type": "code",
   "execution_count": 8,
   "metadata": {},
   "outputs": [],
   "source": [
    "# One-way walls\n",
    "walls = { (1,0): [Direction.RIGHT], (1,1): [Direction.RIGHT], (1,2): [Direction.RIGHT],\n",
    "        (3,1): [Direction.RIGHT], (3,2): [Direction.RIGHT],\n",
    "        (4,1): [Direction.DOWN], (5,1): [Direction.DOWN],\n",
    "        (1,3): [Direction.DOWN], (2,3): [Direction.DOWN], (3,3): [Direction.DOWN], (4,3): [Direction.DOWN],\n",
    "        (3,4): [Direction.RIGHT] }\n",
    "\n",
    "# New values are appended to the first (base) dictionary\n",
    "def append_to_dict(base_dict, new_vals):\n",
    "    for key,vals in new_vals.items():\n",
    "        base_vals = base_dict.get(key, None)\n",
    "        if base_vals is None:\n",
    "            base_vals = []\n",
    "            base_dict[key] = base_vals\n",
    "        base_vals.extend(vals)\n",
    "\n",
    "# Mirroring the walls\n",
    "mirror_walls = {}\n",
    "for key,vals in walls.items():\n",
    "    for val in vals:\n",
    "        mirror_pos = PartialState.step(key, val)\n",
    "        mirror_vals = mirror_walls.get(mirror_pos, None)\n",
    "        if mirror_vals is None:\n",
    "            mirror_vals = []\n",
    "            mirror_walls[mirror_pos] = mirror_vals\n",
    "        mirror_vals.append(Direction.inverse(val))\n",
    "append_to_dict(walls, mirror_walls)"
   ]
  },
  {
   "cell_type": "markdown",
   "metadata": {},
   "source": [
    "## Main algorithm"
   ]
  },
  {
   "cell_type": "code",
   "execution_count": 9,
   "metadata": {},
   "outputs": [],
   "source": [
    "time_left = 30\n",
    "state_space_size = (time_left, *map_size, *map_size)\n",
    "V = np.zeros(state_space_size)\n",
    "theta = 1e-6\n",
    "delta = 1\n",
    "it_count = 0"
   ]
  },
  {
   "cell_type": "code",
   "execution_count": 10,
   "metadata": {},
   "outputs": [],
   "source": [
    "while delta > theta:\n",
    "    delta = 0.0\n",
    "    it_count += 1\n",
    "    for t_left, our_x, our_y, his_x, his_y in np.ndindex(state_space_size):\n",
    "        our_pos = (our_x, our_y)\n",
    "        his_pos = (his_x, his_y)\n",
    "        s = (t_left, *our_pos, *his_pos)\n",
    "        v = V[s]\n",
    "        if t_left == 0 and our_pos != exit_pos:\n",
    "            V[s] = -1 # Ran out of time\n",
    "        elif our_pos == his_pos:\n",
    "            V[s] = -1 # Eaten\n",
    "        elif our_pos == exit_pos:\n",
    "            V[s] = 1 # Made it\n",
    "        else:\n",
    "            his_pos_new = [PartialState.step(his_pos, act) for act in PartialState.getActions(his_pos, walls, True)]\n",
    "            p = 1/len(his_pos_new)\n",
    "            best_act_value = -np.infty\n",
    "            for direction in PartialState.getActions(our_pos, walls, False):\n",
    "                our_pos_new = PartialState.step(our_pos, direction)\n",
    "                new_val = np.sum([V[(t_left-1, *our_pos_new, *his_p)] for his_p in his_pos_new]) * p\n",
    "                if (new_val > best_act_value):\n",
    "                    best_act_value = new_val\n",
    "            V[s] = best_act_value\n",
    "        new_delta = np.abs(v - V[s])\n",
    "        if new_delta > delta:\n",
    "            delta = new_delta"
   ]
  },
  {
   "cell_type": "markdown",
   "metadata": {},
   "source": [
    "## Visualization"
   ]
  },
  {
   "cell_type": "code",
   "execution_count": 12,
   "metadata": {},
   "outputs": [],
   "source": [
    "class Cell():\n",
    "    FILLED_COLOR_BG = \"green\"\n",
    "    EMPTY_COLOR_BG = \"white\"\n",
    "    FILLED_COLOR_BORDER = \"green\"\n",
    "    EMPTY_COLOR_BORDER = \"black\"\n",
    "\n",
    "    def __init__(self, master, x, y, size, fill=\"white\", outline=\"black\"):\n",
    "        \"\"\" Constructor of the object called by Cell(...) \"\"\"\n",
    "        self.master = master\n",
    "        self.abs = x\n",
    "        self.ord = y\n",
    "        self.size= size\n",
    "        self.fill= fill\n",
    "        self.outline=outline\n",
    "\n",
    "    def _switch(self):\n",
    "        \"\"\" Switch if the cell is filled or not. \"\"\"\n",
    "        self.fill= not self.fill\n",
    "\n",
    "    def draw(self, arrow=None):\n",
    "        \"\"\" order to the cell to draw its representation on the canvas \"\"\"\n",
    "        if self.master != None :\n",
    "            fill = self.fill\n",
    "            outline = self.outline\n",
    "            \n",
    "            xmin = self.abs * self.size\n",
    "            xmax = xmin + self.size\n",
    "            ymin = self.ord * self.size\n",
    "            ymax = ymin + self.size\n",
    "            xave = (xmin+xmax)/2\n",
    "            yave = (ymin+ymax)/2\n",
    "\n",
    "            self.master.create_rectangle(xmin, ymin, xmax, ymax, fill = fill, outline = outline)\n",
    "            \n",
    "            if arrow is not None:\n",
    "                if arrow is Direction.NONE:\n",
    "                    self.master.create_rectangle(xave-2, yave-2, xave+2, yave+2, fill = \"black\")\n",
    "                if arrow is Direction.LEFT:\n",
    "                    self.master.create_line((xmax+xave)/2, yave, (xmin+xave)/2, yave, arrow=LAST)\n",
    "                if arrow is Direction.UP:\n",
    "                    self.master.create_line(xave, (ymax+yave)/2, xave, (ymin+yave)/2, arrow=LAST)\n",
    "                if arrow is Direction.RIGHT:\n",
    "                    self.master.create_line((xmin+xave)/2, yave, (xmax+xave)/2, yave, arrow=LAST)\n",
    "                if arrow is Direction.DOWN:\n",
    "                    self.master.create_line(xave, (ymin+yave)/2, xave, (ymax+yave)/2, arrow=LAST)\n",
    "\n",
    "class CellGrid(Canvas):\n",
    "    def __init__(self, master, rowNumber, columnNumber, cellSize, our_position, his_position, walls, time_left, step_func, *args, **kwargs):\n",
    "        Canvas.__init__(self, master, width = cellSize * columnNumber , height = cellSize * rowNumber, *args, **kwargs)\n",
    "\n",
    "        self.cellSize = cellSize\n",
    "        self.grid = []\n",
    "        for row in range(rowNumber):\n",
    "            line = []\n",
    "            for column in range(columnNumber):\n",
    "                line.append(Cell(self, column, row, cellSize))\n",
    "            self.grid.append(line)\n",
    "        \n",
    "        self.our_position = our_position\n",
    "        self.his_position = his_position\n",
    "        self.walls = walls\n",
    "        self.time_left = time_left\n",
    "        self.bind(\"<Button-1>\", self.handleMouseClickStep)\n",
    "        self.draw()\n",
    "        self.finished = False\n",
    "        self.step_func = step_func\n",
    "        \n",
    "        #self.visualizePolicy()\n",
    "\n",
    "    def visualizePolicy(self):\n",
    "        for our_x, our_y in np.ndindex(map_size):\n",
    "            self.our_position = (our_x, our_y)\n",
    "            best_dir = None\n",
    "            best_val = -np.infty\n",
    "            his_pos_new = [PartialState.step(self.his_position, act) for act in PartialState.getActions(self.his_position, walls, True)]\n",
    "            his_p_size = len(his_pos_new)\n",
    "            for direction in PartialState.getActions(self.our_position, self.walls, False):\n",
    "                our_pos_new = PartialState.step(self.our_position, direction)\n",
    "                val = np.sum([V[(self.time_left-1, *our_pos_new, *his_p_new)] for his_p_new in his_pos_new])/his_p_size\n",
    "                if val > best_val:\n",
    "                    best_val = val\n",
    "                    best_dir = direction\n",
    "            Cell(self, self.our_position[0], self.our_position[1], self.cellSize).draw(best_dir)\n",
    "        Cell(self, self.his_position[0], self.his_position[1], self.cellSize, \"red\", Cell.FILLED_COLOR_BORDER).draw()\n",
    "        #self.create_line(0, 0, 200, 100, arrow=tk.LAST)\n",
    "        \n",
    "    def draw(self):\n",
    "        for row in self.grid:\n",
    "            for cell in row:\n",
    "                cell.draw()\n",
    "        # Drawing the players\n",
    "        Cell(self, self.our_position[0], self.our_position[1], self.cellSize, \"green\", Cell.FILLED_COLOR_BORDER).draw()\n",
    "        Cell(self, self.his_position[0], self.his_position[1], self.cellSize, \"red\", Cell.FILLED_COLOR_BORDER).draw()\n",
    "        \n",
    "\n",
    "    def _eventCoords(self, event):\n",
    "        row = int(event.y / self.cellSize)\n",
    "        column = int(event.x / self.cellSize)\n",
    "        return row, column\n",
    "\n",
    "    def handleMouseClickStep(self, event):\n",
    "        if not self.finished:\n",
    "            self.step_func(self)\n",
    "\n",
    "def step(self):\n",
    "    best_pos = None\n",
    "    best_val = -np.infty\n",
    "    his_pos_new = [PartialState.step(self.his_position, act) for act in PartialState.getActions(self.his_position, walls, True)]\n",
    "    his_p_size = len(his_pos_new)\n",
    "    for direction in PartialState.getActions(self.our_position, self.walls, False):\n",
    "        our_pos_new = PartialState.step(self.our_position, direction)\n",
    "        val = np.sum([V[(self.time_left-1, *our_pos_new, *his_p_new)] for his_p_new in his_pos_new])/his_p_size\n",
    "        if val > best_val:\n",
    "            best_val = val\n",
    "            best_pos = our_pos_new\n",
    "    self.our_position = best_pos\n",
    "    self.time_left = self.time_left-1\n",
    "\n",
    "    self.his_position = his_pos_new[np.random.choice(his_p_size)]\n",
    "\n",
    "    self.draw()\n",
    "    if self.our_position == self.his_position or self.our_position == exit_pos or self.time_left == 0:\n",
    "        self.finished = True\n",
    "\n",
    "def step_geom(self):\n",
    "    best_pos = None\n",
    "    best_val = -np.infty\n",
    "    his_pos_new = [PartialState.step(self.his_position, act) for act in PartialState.getActions(self.his_position, walls, True)]\n",
    "    his_p_size = len(his_pos_new)\n",
    "    for direction in PartialState.getActions(self.our_position, self.walls, False):\n",
    "        our_pos_new = PartialState.step(self.our_position, direction)\n",
    "        val = np.sum([V_geom[(*our_pos_new, *his_p_new)] for his_p_new in his_pos_new])/his_p_size\n",
    "        if val > best_val:\n",
    "            best_val = val\n",
    "            best_pos = our_pos_new\n",
    "    self.our_position = best_pos\n",
    "    self.his_position = his_pos_new[np.random.choice(his_p_size)]\n",
    "    self.draw()\n",
    "    if self.our_position == self.his_position or self.our_position == exit_pos:\n",
    "        self.finished = True\n",
    "            \n",
    "app = Tk()\n",
    "grid = CellGrid(app, map_height, map_width, 50, our_pos_zero, his_pos_zero, walls, 15, step)\n",
    "grid.pack()\n",
    "app.mainloop()"
   ]
  },
  {
   "cell_type": "markdown",
   "metadata": {},
   "source": [
    "## Calculating the maximum probabilities"
   ]
  },
  {
   "cell_type": "code",
   "execution_count": 25,
   "metadata": {},
   "outputs": [],
   "source": [
    "T = 9\n",
    "s0 = (T, *our_pos_zero, *his_pos_zero, 1.0)\n",
    "q = deque([s0])\n",
    "p_exiting = 0\n",
    "while (len(q) != 0):\n",
    "    s = q.pop()\n",
    "    t_left,our_pos,his_pos,p = s[0], (s[1], s[2]), (s[3], s[4]), s[5]\n",
    "    \n",
    "    if our_pos == exit_pos and our_pos != his_pos:\n",
    "        p_exiting += p # Made it\n",
    "        continue\n",
    "    elif t_left == 0 or our_pos == his_pos:\n",
    "        continue\n",
    "    \n",
    "    best_pos = None\n",
    "    best_val = -np.infty\n",
    "    his_pos_new = [PartialState.step(his_pos, act) for act in PartialState.getActions(his_pos, walls, True)]\n",
    "    his_p_size = len(his_pos_new)\n",
    "    for direction in PartialState.getActions(our_pos, walls, False):\n",
    "        our_pos_new = PartialState.step(our_pos, direction)\n",
    "        val = np.sum([V[(t_left-1, *our_pos_new, *his_p_new)] for his_p_new in his_pos_new])/his_p_size\n",
    "        if val > best_val:\n",
    "            best_val = val\n",
    "            best_pos = our_pos_new\n",
    "    for his_p_new in his_pos_new:\n",
    "        q.append((t_left-1, *best_pos, *his_p_new, p/his_p_size))"
   ]
  },
  {
   "cell_type": "code",
   "execution_count": null,
   "metadata": {},
   "outputs": [],
   "source": [
    "# 15: 1.0\n",
    "# 14: 1.0\n",
    "# 13: 1.0\n",
    "# 12: 1.0\n",
    "# 11: 1.0\n",
    "# 10: 0.13458076131\n",
    "# 9: 0\n",
    "# 8: 0\n"
   ]
  },
  {
   "cell_type": "code",
   "execution_count": 27,
   "metadata": {},
   "outputs": [
    {
     "data": {
      "image/png": "[encoded data removed]",
      "text/plain": [
       "<Figure size 432x288 with 1 Axes>"
      ]
     },
     "metadata": {},
     "output_type": "display_data"
    }
   ],
   "source": [
    "x = np.arange(18)\n",
    "#p_exit = [0,0,0,0,0,0,0,0,0,0,\n",
    "#          0.440500937044526, # 10\n",
    "#          0.5420765817899836, # 11\n",
    "#          0.5868840042438842, # 12\n",
    "#          0.6177752052531786, # 13\n",
    "#          0.6464099708489832, # 14\n",
    "#          0.6740127245201469, # 15\n",
    "#          0.700994434219172, # 16\n",
    "#          0.7260719642171201 # 17\n",
    "#         ]\n",
    "p_exit = [0,0,0,0,0,0,0,0,0,0,\n",
    "          0.13458076131, # 10\n",
    "          1.0, # 11\n",
    "          1.0, # 12\n",
    "          1.0, # 13\n",
    "          1.0, # 14\n",
    "          1.0, # 15\n",
    "          1.0, # 16\n",
    "          1.0 # 17\n",
    "         ]\n",
    "plt.plot(x, p_exit)\n",
    "plt.xlabel('T (time constraint)')\n",
    "plt.xticks(np.arange(18))\n",
    "#plt.ylabel('probability of exiting')\n",
    "plt.title('Maximum exiting probability')\n",
    "plt.grid(True)\n",
    "plt.savefig(\"max_probs_2.png\")\n",
    "#plt.show()"
   ]
  },
  {
   "cell_type": "markdown",
   "metadata": {},
   "source": [
    "## The geometrical thing"
   ]
  },
  {
   "cell_type": "code",
   "execution_count": 42,
   "metadata": {},
   "outputs": [],
   "source": [
    "state_space_size = (*map_size, *map_size)\n",
    "V_geom = np.zeros(state_space_size)\n",
    "theta = 1e-6\n",
    "delta = 1\n",
    "it_count = 0\n",
    "gamma = 1-(1/30)\n",
    "r_step = 0\n",
    "r_killed = 0\n",
    "r_exit = 1"
   ]
  },
  {
   "cell_type": "code",
   "execution_count": 43,
   "metadata": {},
   "outputs": [],
   "source": [
    "while delta > theta:\n",
    "    delta = 0.0\n",
    "    it_count += 1\n",
    "    for our_x, our_y, his_x, his_y in np.ndindex(state_space_size):\n",
    "        our_pos = (our_x, our_y)\n",
    "        his_pos = (his_x, his_y)\n",
    "        s = (*our_pos, *his_pos)\n",
    "        v = V_geom[s]\n",
    "        if our_pos == his_pos:\n",
    "            V_geom[s] = r_killed # Eaten\n",
    "        elif our_pos == exit_pos:\n",
    "            V_geom[s] = r_exit # Made it\n",
    "        else:\n",
    "            his_pos_new = [PartialState.step(his_pos, act) for act in PartialState.getActions(his_pos, walls, True)]\n",
    "            p = 1/len(his_pos_new)\n",
    "            best_act_value = -np.infty\n",
    "            for direction in PartialState.getActions(our_pos, walls, False):\n",
    "                our_pos_new = PartialState.step(our_pos, direction)\n",
    "                new_val = np.sum([r_step + gamma*V_geom[(*our_pos_new, *his_p)] for his_p in his_pos_new]) * p\n",
    "                if (new_val > best_act_value):\n",
    "                    best_act_value = new_val\n",
    "            V_geom[s] = best_act_value\n",
    "        new_delta = np.abs(v - V_geom[s])\n",
    "        if new_delta > delta:\n",
    "            delta = new_delta"
   ]
  },
  {
   "cell_type": "code",
   "execution_count": 44,
   "metadata": {},
   "outputs": [],
   "source": [
    "class Simulator():\n",
    "    \n",
    "    def __init__(self):\n",
    "        self.walls = walls\n",
    "        self.p_geom = 1/30\n",
    "        self.V = V_geom\n",
    "        \n",
    "    def step(self):\n",
    "        best_pos = None\n",
    "        best_val = -np.infty\n",
    "        his_pos_new = [PartialState.step(self.his_position, act) for act in PartialState.getActions(self.his_position, walls, True)]\n",
    "        his_p_size = len(his_pos_new)\n",
    "        for direction in PartialState.getActions(self.our_position, self.walls, False):\n",
    "            our_pos_new = PartialState.step(self.our_position, direction)\n",
    "            val = np.sum([self.V[(*our_pos_new, *his_p_new)] for his_p_new in his_pos_new])/his_p_size\n",
    "            if val > best_val:\n",
    "                best_val = val\n",
    "                best_pos = our_pos_new\n",
    "        self.our_position = best_pos\n",
    "        self.his_position = his_pos_new[np.random.choice(his_p_size)]\n",
    "        self.time += 1\n",
    "        if self.our_position == self.his_position:\n",
    "            self.finished = True\n",
    "            return\n",
    "        if self.our_position == exit_pos:\n",
    "            self.finished = True\n",
    "            self.wins += 1\n",
    "            self.time_ave += self.time\n",
    "            return\n",
    "        if np.random.sample() < self.p_geom:\n",
    "            self.finished = True\n",
    "        \n",
    "    def simulate(self):\n",
    "        self.wins = 0\n",
    "        self.time_ave = 0\n",
    "        self.samples_num = 10000\n",
    "        for i in range(self.samples_num):\n",
    "            self.finished = False\n",
    "            self.our_position = our_pos_zero\n",
    "            self.his_position = his_pos_zero\n",
    "            self.time = 0\n",
    "            while not self.finished:\n",
    "                self.step()\n",
    "        self.time_ave /= self.wins\n",
    "    "
   ]
  },
  {
   "cell_type": "code",
   "execution_count": 45,
   "metadata": {},
   "outputs": [],
   "source": [
    "sim = Simulator()\n",
    "sim.simulate()"
   ]
  },
  {
   "cell_type": "code",
   "execution_count": 46,
   "metadata": {
    "scrolled": true
   },
   "outputs": [
    {
     "data": {
      "text/plain": [
       "7162"
      ]
     },
     "execution_count": 46,
     "metadata": {},
     "output_type": "execute_result"
    }
   ],
   "source": [
    "sim.wins"
   ]
  },
  {
   "cell_type": "code",
   "execution_count": 47,
   "metadata": {
    "scrolled": true
   },
   "outputs": [
    {
     "data": {
      "text/plain": [
       "11.0"
      ]
     },
     "execution_count": 47,
     "metadata": {},
     "output_type": "execute_result"
    }
   ],
   "source": [
    "sim.time_ave"
   ]
  }
 ],
 "metadata": {
  "kernelspec": {
   "display_name": "Python 3",
   "language": "python",
   "name": "python3"
  },
  "language_info": {
   "codemirror_mode": {
    "name": "ipython",
    "version": 3
   },
   "file_extension": ".py",
   "mimetype": "text/x-python",
   "name": "python",
   "nbconvert_exporter": "python",
   "pygments_lexer": "ipython3",
   "version": "3.6.5"
  }
 },
 "nbformat": 4,
 "nbformat_minor": 2
}
